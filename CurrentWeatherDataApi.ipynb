{
  "nbformat": 4,
  "nbformat_minor": 0,
  "metadata": {
    "colab": {
      "provenance": []
    },
    "kernelspec": {
      "name": "python3",
      "display_name": "Python 3"
    },
    "language_info": {
      "name": "python"
    }
  },
  "cells": [
    {
      "cell_type": "code",
      "execution_count": 1,
      "metadata": {
        "id": "h679jU2x3WWe"
      },
      "outputs": [],
      "source": [
        "import requests"
      ]
    },
    {
      "cell_type": "code",
      "source": [
        "#Cidade: Amsterdã\n",
        "r = requests.get(\"https://api.openweathermap.org/data/2.5/weather?lat=52.37&lon=4.89&appid=88f8cdd4a39d9624ea2d7056440afaa6&units=metric&lang=pt_br\")\n",
        "response = r.json()\n",
        "print(f\"Descrição: {response['weather'][0]['description']}\")\n",
        "print(f\"Temperatura: {response['main']['temp']} °C\")"
      ],
      "metadata": {
        "colab": {
          "base_uri": "https://localhost:8080/"
        },
        "id": "_drkiUxY4GMt",
        "outputId": "8151100a-348d-41d8-88f8-dc46481128d5"
      },
      "execution_count": 49,
      "outputs": [
        {
          "output_type": "stream",
          "name": "stdout",
          "text": [
            "Descrição: céu limpo\n",
            "Temperatura: 14.45 °C\n"
          ]
        }
      ]
    }
  ]
}